{
 "cells": [
  {
   "cell_type": "markdown",
   "metadata": {},
   "source": [
    "# Проверка корректноти модели"
   ]
  },
  {
   "cell_type": "code",
   "execution_count": 253,
   "metadata": {
    "collapsed": true
   },
   "outputs": [],
   "source": [
    "from analys.energy import Staticstics\n",
    "import numpy as np\n",
    "import pandas as pd\n",
    "from tqdm import tqdm\n",
    "import matplotlib.pyplot as plt"
   ]
  },
  {
   "cell_type": "code",
   "execution_count": 254,
   "metadata": {
    "collapsed": true
   },
   "outputs": [],
   "source": [
    "# Функция для внутренней энергии\n",
    "beta = 0.1155\n",
    "def v_in(AMOUNT):\n",
    "    return  np.sqrt(-np.log(np.random.uniform(0,1,AMOUNT)))/beta  * np.sin(2.0*np.pi*(np.random.uniform(0,1,AMOUNT)))"
   ]
  },
  {
   "cell_type": "code",
   "execution_count": 297,
   "metadata": {},
   "outputs": [
    {
     "data": {
      "image/png": "[encoded data removed]",
      "text/plain": [
       "<matplotlib.figure.Figure at 0x14667a90>"
      ]
     },
     "metadata": {},
     "output_type": "display_data"
    }
   ],
   "source": [
    "good = []\n",
    "m = v_in(100000)\n",
    "for i in m:\n",
    "    if i > -15 and i < 15:\n",
    "        good.append(i)\n",
    "\n",
    "# распределение внутренней энергии\n",
    "plt.hist(good, bins=100)\n",
    "plt.ylabel(\"p\")\n",
    "plt.xlabel(\"c_i\")\n",
    "plt.show()"
   ]
  },
  {
   "cell_type": "markdown",
   "metadata": {},
   "source": [
    "### Метод исключений"
   ]
  },
  {
   "cell_type": "code",
   "execution_count": 286,
   "metadata": {
    "collapsed": true
   },
   "outputs": [],
   "source": [
    "# метод исключений\n",
    "def exlusion(function,x_min, x_max):\n",
    "    x0 = np.random.uniform(x_min,x_max,1)[0]\n",
    "    R = np.random.uniform(0,1,1)[0]\n",
    "    if function(x0) > R:\n",
    "        return x0\n",
    "    else:\n",
    "        return exlusion(function,x_min, x_max)"
   ]
  },
  {
   "cell_type": "markdown",
   "metadata": {},
   "source": [
    "Проверим метод исключений на  распределении внутренних энергий."
   ]
  },
  {
   "cell_type": "code",
   "execution_count": 290,
   "metadata": {
    "collapsed": true
   },
   "outputs": [],
   "source": [
    "def f(x):\n",
    "    return np.exp(-beta ** 2 * x ** 2) "
   ]
  },
  {
   "cell_type": "code",
   "execution_count": 298,
   "metadata": {},
   "outputs": [
    {
     "data": {
      "image/png": "[encoded data removed]",
      "text/plain": [
       "<matplotlib.figure.Figure at 0x12d129b0>"
      ]
     },
     "metadata": {},
     "output_type": "display_data"
    }
   ],
   "source": [
    "c_i = [exlusion(f, -15, 15) for i in xrange(100000)]\n",
    "plt.hist(c_i, bins = 100)\n",
    "plt.ylabel(\"p\")\n",
    "plt.xlabel(\"c_i\")\n",
    "plt.show()"
   ]
  },
  {
   "cell_type": "markdown",
   "metadata": {},
   "source": [
    "Распределения получились схожи, значит метод работает корректно."
   ]
  },
  {
   "cell_type": "markdown",
   "metadata": {},
   "source": [
    "### Проверка функции $\\gamma$"
   ]
  },
  {
   "cell_type": "code",
   "execution_count": 446,
   "metadata": {
    "collapsed": true
   },
   "outputs": [],
   "source": [
    "def k(b, lmbd):\n",
    "    if b <= 1.4:\n",
    "        return  -0.12 * b**3 - 0.09 * b **2 + 0.12 * b +  0.51\n",
    "    elif b <= 2.6:\n",
    "        l_max = -0.3 * b ** 3 + 2.16 * b ** 2 - 5.31 * b + 4.48\n",
    "        if lmbd < l_max:\n",
    "            return 1.4 * b - 1.69\n",
    "    return 0.\n",
    "\n",
    "def g_0(b, lmbd):\n",
    "    if b <= 1.4:\n",
    "        return  0.25 * b**3 -  0.22 * b**2 + 0.08 * b + 0.18\n",
    "    elif b <= 2.6:\n",
    "        l_max = -0.3 * b ** 3 + 2.16 * b ** 2 - 5.31 * b + 4.48\n",
    "        if lmbd < l_max:\n",
    "            return -0.39 *b ** 3 + 2.68 * b**2 - 6.17 * b + 4.91\n",
    "    return 0.\n",
    "\n",
    "def gamma_(b, lmbd):\n",
    "    return  k(b, lmbd) * lmbd - k(b,lmbd) * g_0(b, lmbd)\n",
    "\n",
    "def get_gamma(bb, lmbd):\n",
    "    res = []\n",
    "    for i in tqdm(xrange(len(bb))):\n",
    "        res.append(gamma_(bb[i], lmbd[i]))\n",
    "    return np.array(res)"
   ]
  },
  {
   "cell_type": "markdown",
   "metadata": {},
   "source": [
    "Функция распределения для относительной скорости"
   ]
  },
  {
   "cell_type": "code",
   "execution_count": 462,
   "metadata": {},
   "outputs": [],
   "source": [
    "def func(x):\n",
    "    return 2 * beta ** 4 * x ** 3 * np.exp(-beta ** 2 * x ** 2)\n",
    "\n",
    "def func_exclusion(x):\n",
    "    return func(x) / func(np.sqrt(3./2.)/beta)"
   ]
  },
  {
   "cell_type": "markdown",
   "metadata": {},
   "source": [
    "Насчитаем относительные скорости"
   ]
  },
  {
   "cell_type": "code",
   "execution_count": 463,
   "metadata": {},
   "outputs": [
    {
     "name": "stderr",
     "output_type": "stream",
     "text": [
      "100%|██████████| 100000/100000 [00:05<00:00, 18457.00it/s]\n"
     ]
    }
   ],
   "source": [
    "c_r = [exlusion(func_1, 0, 40) for i in tqdm(xrange(100000))]\n"
   ]
  },
  {
   "cell_type": "code",
   "execution_count": 466,
   "metadata": {},
   "outputs": [
    {
     "data": {
      "image/png": "[encoded data removed]",
      "text/plain": [
       "<matplotlib.figure.Figure at 0x25516278>"
      ]
     },
     "metadata": {},
     "output_type": "display_data"
    }
   ],
   "source": [
    "plt.hist(c_r, bins = 100)\n",
    "plt.ylabel(\"p\")\n",
    "plt.xlabel(\"c_r\")\n",
    "plt.show()"
   ]
  },
  {
   "cell_type": "markdown",
   "metadata": {},
   "source": [
    "Насчитаем внутренние кинетические энергии (вращательные) для наших 4 атомов (по x, y, z) "
   ]
  },
  {
   "cell_type": "code",
   "execution_count": 468,
   "metadata": {},
   "outputs": [],
   "source": [
    "c_1_x =v_in(100000)\n",
    "c_1_y =v_in(100000)\n",
    "c_1_z =v_in(100000)\n",
    "\n",
    "E_i_1 = (c_1_x ** 2 + c_1_y  ** 2 + c_1_z ** 2)/2\n",
    "E_i_2 = E_i_1 # у второго атома такая же кинетическая энергия (скорости равны, но противоположно направлены)\n",
    "\n",
    "c_3_x =v_in(100000)\n",
    "c_3_y =v_in(100000)\n",
    "c_3_z =v_in(100000)\n",
    "\n",
    "E_i_3 = (c_3_x ** 2 + c_3_y  ** 2 + c_3_z ** 2)/2\n",
    "E_i_4 = E_i_3 # у второго атома такая же кинетическая энергия (скорости равны, но противоположно направлены)"
   ]
  },
  {
   "cell_type": "markdown",
   "metadata": {},
   "source": [
    "Распределение колебательной энергии = распределению вращательной при равновесии"
   ]
  },
  {
   "cell_type": "code",
   "execution_count": 469,
   "metadata": {
    "collapsed": true
   },
   "outputs": [],
   "source": [
    "E_in = 2 * (E_i_1 + E_i_2 + E_i_3 + E_i_4)"
   ]
  },
  {
   "cell_type": "code",
   "execution_count": 471,
   "metadata": {},
   "outputs": [
    {
     "data": {
      "image/png": "[encoded data removed]",
      "text/plain": [
       "<matplotlib.figure.Figure at 0x2c072240>"
      ]
     },
     "metadata": {},
     "output_type": "display_data"
    }
   ],
   "source": [
    "plt.hist(E_in, bins = 100)\n",
    "plt.ylabel(\"p\")\n",
    "plt.xlabel(\"E_in\")\n",
    "plt.show()"
   ]
  },
  {
   "cell_type": "markdown",
   "metadata": {},
   "source": [
    "Поступательная энергия"
   ]
  },
  {
   "cell_type": "code",
   "execution_count": 476,
   "metadata": {},
   "outputs": [
    {
     "data": {
      "image/png": "[encoded data removed]",
      "text/plain": [
       "<matplotlib.figure.Figure at 0xf0fd4a8>"
      ]
     },
     "metadata": {},
     "output_type": "display_data"
    }
   ],
   "source": [
    "E_r = np.array(c_r) ** 2 / 2\n",
    "plt.hist(E_r, bins = 100)\n",
    "plt.ylabel(\"p\")\n",
    "plt.xlabel(\"E_r\")\n",
    "plt.show()"
   ]
  },
  {
   "cell_type": "markdown",
   "metadata": {},
   "source": [
    "Полная энергия"
   ]
  },
  {
   "cell_type": "code",
   "execution_count": 475,
   "metadata": {},
   "outputs": [],
   "source": [
    "H = E_r + E_in"
   ]
  },
  {
   "cell_type": "markdown",
   "metadata": {},
   "source": [
    "Прицельные расстояния имеют равномерное распределение"
   ]
  },
  {
   "cell_type": "code",
   "execution_count": 477,
   "metadata": {},
   "outputs": [
    {
     "data": {
      "image/png": "[encoded data removed]",
      "text/plain": [
       "<matplotlib.figure.Figure at 0x14377748>"
      ]
     },
     "metadata": {},
     "output_type": "display_data"
    }
   ],
   "source": [
    "b = np.random.uniform(0,5,100000)\n",
    "plt.hist(b, bins = 100)\n",
    "plt.ylabel(\"p\")\n",
    "plt.xlabel(\"b\")\n",
    "plt.show()"
   ]
  },
  {
   "cell_type": "markdown",
   "metadata": {},
   "source": [
    "Насчитаем $\\gamma$"
   ]
  },
  {
   "cell_type": "code",
   "execution_count": 478,
   "metadata": {},
   "outputs": [
    {
     "name": "stderr",
     "output_type": "stream",
     "text": [
      "100%|██████████| 100000/100000 [00:00<00:00, 211416.47it/s]\n"
     ]
    }
   ],
   "source": [
    "gamma = get_gamma(b, E_r/H)"
   ]
  },
  {
   "cell_type": "markdown",
   "metadata": {},
   "source": [
    "Получим скорость после столкновения как\n",
    "\n",
    "$$\n",
    "c_r' = \\sqrt{c_r^2 - 2 \\cdot H \\cdot \\gamma} \n",
    "$$"
   ]
  },
  {
   "cell_type": "code",
   "execution_count": 484,
   "metadata": {},
   "outputs": [],
   "source": [
    "c_new = np.sqrt(np.array(c_r) ** 2 - 2 * H * gamma)"
   ]
  },
  {
   "cell_type": "code",
   "execution_count": 490,
   "metadata": {},
   "outputs": [
    {
     "data": {
      "image/png": "[encoded data removed]",
      "text/plain": [
       "<matplotlib.figure.Figure at 0x33df6ac8>"
      ]
     },
     "metadata": {},
     "output_type": "display_data"
    }
   ],
   "source": [
    "plt.hist(c_new, bins = 100)\n",
    "plt.ylabel(\"p\")\n",
    "plt.xlabel(\"c_r end\")\n",
    "plt.show()"
   ]
  },
  {
   "cell_type": "markdown",
   "metadata": {},
   "source": [
    "Распределения скорости после столкновения получилось похоже на изначальное. Сравним их."
   ]
  },
  {
   "cell_type": "code",
   "execution_count": 491,
   "metadata": {},
   "outputs": [
    {
     "data": {
      "image/png": "[encoded data removed]",
      "text/plain": [
       "<matplotlib.figure.Figure at 0x143a2390>"
      ]
     },
     "metadata": {},
     "output_type": "display_data"
    }
   ],
   "source": [
    "plt.hist(c_new, bins = 100, label = \"end\")\n",
    "plt.hist(c_r, bins = 100, label = \"init\")\n",
    "plt.ylabel(\"p\")\n",
    "plt.xlabel(\"c_r end\")\n",
    "plt.legend()\n",
    "plt.show()"
   ]
  },
  {
   "cell_type": "markdown",
   "metadata": {},
   "source": [
    "Распределения идентичны, что говорит о том, что первое начало термодинамики выполняется. Значит, модель корректна."
   ]
  }
 ],
 "metadata": {
  "kernelspec": {
   "display_name": "Python 2",
   "language": "python",
   "name": "python2"
  },
  "language_info": {
   "codemirror_mode": {
    "name": "ipython",
    "version": 2
   },
   "file_extension": ".py",
   "mimetype": "text/x-python",
   "name": "python",
   "nbconvert_exporter": "python",
   "pygments_lexer": "ipython2",
   "version": "2.7.13"
  }
 },
 "nbformat": 4,
 "nbformat_minor": 2
}
